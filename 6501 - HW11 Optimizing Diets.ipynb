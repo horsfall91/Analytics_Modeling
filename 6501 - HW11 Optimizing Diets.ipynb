{
 "cells": [
  {
   "cell_type": "markdown",
   "metadata": {},
   "source": [
    "# ISyE 6501 - HW11: Optimization\n",
    "\n",
    "## Problem Set 15"
   ]
  },
  {
   "cell_type": "markdown",
   "metadata": {},
   "source": [
    "### 15.2.1: Optimizing the cheapest diet that maintains min and max dietary constraints"
   ]
  },
  {
   "cell_type": "markdown",
   "metadata": {},
   "source": [
    "##### Check Python version, import necessary packages, load data"
   ]
  },
  {
   "cell_type": "code",
   "execution_count": 1,
   "metadata": {},
   "outputs": [
    {
     "name": "stdout",
     "output_type": "stream",
     "text": [
      "3.8.3\n"
     ]
    }
   ],
   "source": [
    "from platform import python_version\n",
    "\n",
    "print(python_version())"
   ]
  },
  {
   "cell_type": "code",
   "execution_count": 2,
   "metadata": {},
   "outputs": [],
   "source": [
    "import pandas as pd\n",
    "import numpy as np\n",
    "from pulp import *\n",
    "#!pip install pulp"
   ]
  },
  {
   "cell_type": "code",
   "execution_count": 3,
   "metadata": {},
   "outputs": [],
   "source": [
    "df = pd.read_excel('C:/Users/Clayton/Desktop/Georgia Tech/ISYE_6501/hw11/data 15.2/diet.xls')"
   ]
  },
  {
   "cell_type": "markdown",
   "metadata": {},
   "source": [
    "##### Dataframe rebuild, so we isolate the variables, and the min-max constraints for later use"
   ]
  },
  {
   "cell_type": "code",
   "execution_count": 4,
   "metadata": {},
   "outputs": [],
   "source": [
    "variable_df = df.loc[0:63, df.columns != 'Serving Size']\n",
    "constraint_df = df.iloc[65:67, 3:]\n",
    "min_con = constraint_df.iloc[[0,]]\n",
    "max_con = constraint_df.iloc[[1,]]"
   ]
  },
  {
   "cell_type": "code",
   "execution_count": 5,
   "metadata": {},
   "outputs": [
    {
     "data": {
      "text/html": [
       "<div>\n",
       "<style scoped>\n",
       "    .dataframe tbody tr th:only-of-type {\n",
       "        vertical-align: middle;\n",
       "    }\n",
       "\n",
       "    .dataframe tbody tr th {\n",
       "        vertical-align: top;\n",
       "    }\n",
       "\n",
       "    .dataframe thead th {\n",
       "        text-align: right;\n",
       "    }\n",
       "</style>\n",
       "<table border=\"1\" class=\"dataframe\">\n",
       "  <thead>\n",
       "    <tr style=\"text-align: right;\">\n",
       "      <th></th>\n",
       "      <th>Foods</th>\n",
       "      <th>Price/ Serving</th>\n",
       "      <th>Calories</th>\n",
       "      <th>Cholesterol mg</th>\n",
       "      <th>Total_Fat g</th>\n",
       "      <th>Sodium mg</th>\n",
       "      <th>Carbohydrates g</th>\n",
       "      <th>Dietary_Fiber g</th>\n",
       "      <th>Protein g</th>\n",
       "      <th>Vit_A IU</th>\n",
       "      <th>Vit_C IU</th>\n",
       "      <th>Calcium mg</th>\n",
       "      <th>Iron mg</th>\n",
       "    </tr>\n",
       "  </thead>\n",
       "  <tbody>\n",
       "    <tr>\n",
       "      <th>0</th>\n",
       "      <td>Frozen Broccoli</td>\n",
       "      <td>0.16</td>\n",
       "      <td>73.8</td>\n",
       "      <td>0.0</td>\n",
       "      <td>0.8</td>\n",
       "      <td>68.2</td>\n",
       "      <td>13.6</td>\n",
       "      <td>8.5</td>\n",
       "      <td>8.0</td>\n",
       "      <td>5867.4</td>\n",
       "      <td>160.2</td>\n",
       "      <td>159.0</td>\n",
       "      <td>2.3</td>\n",
       "    </tr>\n",
       "    <tr>\n",
       "      <th>1</th>\n",
       "      <td>Carrots,Raw</td>\n",
       "      <td>0.07</td>\n",
       "      <td>23.7</td>\n",
       "      <td>0.0</td>\n",
       "      <td>0.1</td>\n",
       "      <td>19.2</td>\n",
       "      <td>5.6</td>\n",
       "      <td>1.6</td>\n",
       "      <td>0.6</td>\n",
       "      <td>15471.0</td>\n",
       "      <td>5.1</td>\n",
       "      <td>14.9</td>\n",
       "      <td>0.3</td>\n",
       "    </tr>\n",
       "    <tr>\n",
       "      <th>2</th>\n",
       "      <td>Celery, Raw</td>\n",
       "      <td>0.04</td>\n",
       "      <td>6.4</td>\n",
       "      <td>0.0</td>\n",
       "      <td>0.1</td>\n",
       "      <td>34.8</td>\n",
       "      <td>1.5</td>\n",
       "      <td>0.7</td>\n",
       "      <td>0.3</td>\n",
       "      <td>53.6</td>\n",
       "      <td>2.8</td>\n",
       "      <td>16.0</td>\n",
       "      <td>0.2</td>\n",
       "    </tr>\n",
       "    <tr>\n",
       "      <th>3</th>\n",
       "      <td>Frozen Corn</td>\n",
       "      <td>0.18</td>\n",
       "      <td>72.2</td>\n",
       "      <td>0.0</td>\n",
       "      <td>0.6</td>\n",
       "      <td>2.5</td>\n",
       "      <td>17.1</td>\n",
       "      <td>2.0</td>\n",
       "      <td>2.5</td>\n",
       "      <td>106.6</td>\n",
       "      <td>5.2</td>\n",
       "      <td>3.3</td>\n",
       "      <td>0.3</td>\n",
       "    </tr>\n",
       "    <tr>\n",
       "      <th>4</th>\n",
       "      <td>Lettuce,Iceberg,Raw</td>\n",
       "      <td>0.02</td>\n",
       "      <td>2.6</td>\n",
       "      <td>0.0</td>\n",
       "      <td>0.0</td>\n",
       "      <td>1.8</td>\n",
       "      <td>0.4</td>\n",
       "      <td>0.3</td>\n",
       "      <td>0.2</td>\n",
       "      <td>66.0</td>\n",
       "      <td>0.8</td>\n",
       "      <td>3.8</td>\n",
       "      <td>0.1</td>\n",
       "    </tr>\n",
       "    <tr>\n",
       "      <th>...</th>\n",
       "      <td>...</td>\n",
       "      <td>...</td>\n",
       "      <td>...</td>\n",
       "      <td>...</td>\n",
       "      <td>...</td>\n",
       "      <td>...</td>\n",
       "      <td>...</td>\n",
       "      <td>...</td>\n",
       "      <td>...</td>\n",
       "      <td>...</td>\n",
       "      <td>...</td>\n",
       "      <td>...</td>\n",
       "      <td>...</td>\n",
       "    </tr>\n",
       "    <tr>\n",
       "      <th>59</th>\n",
       "      <td>Neweng Clamchwd</td>\n",
       "      <td>0.75</td>\n",
       "      <td>175.7</td>\n",
       "      <td>10.0</td>\n",
       "      <td>5.0</td>\n",
       "      <td>1864.9</td>\n",
       "      <td>21.8</td>\n",
       "      <td>1.5</td>\n",
       "      <td>10.9</td>\n",
       "      <td>20.1</td>\n",
       "      <td>4.8</td>\n",
       "      <td>82.8</td>\n",
       "      <td>2.8</td>\n",
       "    </tr>\n",
       "    <tr>\n",
       "      <th>60</th>\n",
       "      <td>Tomato Soup</td>\n",
       "      <td>0.39</td>\n",
       "      <td>170.7</td>\n",
       "      <td>0.0</td>\n",
       "      <td>3.8</td>\n",
       "      <td>1744.4</td>\n",
       "      <td>33.2</td>\n",
       "      <td>1.0</td>\n",
       "      <td>4.1</td>\n",
       "      <td>1393.0</td>\n",
       "      <td>133.0</td>\n",
       "      <td>27.6</td>\n",
       "      <td>3.5</td>\n",
       "    </tr>\n",
       "    <tr>\n",
       "      <th>61</th>\n",
       "      <td>New E Clamchwd,W/Mlk</td>\n",
       "      <td>0.99</td>\n",
       "      <td>163.7</td>\n",
       "      <td>22.3</td>\n",
       "      <td>6.6</td>\n",
       "      <td>992.0</td>\n",
       "      <td>16.6</td>\n",
       "      <td>1.5</td>\n",
       "      <td>9.5</td>\n",
       "      <td>163.7</td>\n",
       "      <td>3.5</td>\n",
       "      <td>186.0</td>\n",
       "      <td>1.5</td>\n",
       "    </tr>\n",
       "    <tr>\n",
       "      <th>62</th>\n",
       "      <td>Crm Mshrm Soup,W/Mlk</td>\n",
       "      <td>0.65</td>\n",
       "      <td>203.4</td>\n",
       "      <td>19.8</td>\n",
       "      <td>13.6</td>\n",
       "      <td>1076.3</td>\n",
       "      <td>15.0</td>\n",
       "      <td>0.5</td>\n",
       "      <td>6.1</td>\n",
       "      <td>153.8</td>\n",
       "      <td>2.2</td>\n",
       "      <td>178.6</td>\n",
       "      <td>0.6</td>\n",
       "    </tr>\n",
       "    <tr>\n",
       "      <th>63</th>\n",
       "      <td>Beanbacn Soup,W/Watr</td>\n",
       "      <td>0.67</td>\n",
       "      <td>172.0</td>\n",
       "      <td>2.5</td>\n",
       "      <td>5.9</td>\n",
       "      <td>951.3</td>\n",
       "      <td>22.8</td>\n",
       "      <td>8.6</td>\n",
       "      <td>7.9</td>\n",
       "      <td>888.0</td>\n",
       "      <td>1.5</td>\n",
       "      <td>81.0</td>\n",
       "      <td>2.0</td>\n",
       "    </tr>\n",
       "  </tbody>\n",
       "</table>\n",
       "<p>64 rows × 13 columns</p>\n",
       "</div>"
      ],
      "text/plain": [
       "                   Foods  Price/ Serving  Calories  Cholesterol mg  \\\n",
       "0        Frozen Broccoli            0.16      73.8             0.0   \n",
       "1            Carrots,Raw            0.07      23.7             0.0   \n",
       "2            Celery, Raw            0.04       6.4             0.0   \n",
       "3            Frozen Corn            0.18      72.2             0.0   \n",
       "4    Lettuce,Iceberg,Raw            0.02       2.6             0.0   \n",
       "..                   ...             ...       ...             ...   \n",
       "59       Neweng Clamchwd            0.75     175.7            10.0   \n",
       "60           Tomato Soup            0.39     170.7             0.0   \n",
       "61  New E Clamchwd,W/Mlk            0.99     163.7            22.3   \n",
       "62  Crm Mshrm Soup,W/Mlk            0.65     203.4            19.8   \n",
       "63  Beanbacn Soup,W/Watr            0.67     172.0             2.5   \n",
       "\n",
       "    Total_Fat g  Sodium mg  Carbohydrates g  Dietary_Fiber g  Protein g  \\\n",
       "0           0.8       68.2             13.6              8.5        8.0   \n",
       "1           0.1       19.2              5.6              1.6        0.6   \n",
       "2           0.1       34.8              1.5              0.7        0.3   \n",
       "3           0.6        2.5             17.1              2.0        2.5   \n",
       "4           0.0        1.8              0.4              0.3        0.2   \n",
       "..          ...        ...              ...              ...        ...   \n",
       "59          5.0     1864.9             21.8              1.5       10.9   \n",
       "60          3.8     1744.4             33.2              1.0        4.1   \n",
       "61          6.6      992.0             16.6              1.5        9.5   \n",
       "62         13.6     1076.3             15.0              0.5        6.1   \n",
       "63          5.9      951.3             22.8              8.6        7.9   \n",
       "\n",
       "    Vit_A IU  Vit_C IU  Calcium mg  Iron mg  \n",
       "0     5867.4     160.2       159.0      2.3  \n",
       "1    15471.0       5.1        14.9      0.3  \n",
       "2       53.6       2.8        16.0      0.2  \n",
       "3      106.6       5.2         3.3      0.3  \n",
       "4       66.0       0.8         3.8      0.1  \n",
       "..       ...       ...         ...      ...  \n",
       "59      20.1       4.8        82.8      2.8  \n",
       "60    1393.0     133.0        27.6      3.5  \n",
       "61     163.7       3.5       186.0      1.5  \n",
       "62     153.8       2.2       178.6      0.6  \n",
       "63     888.0       1.5        81.0      2.0  \n",
       "\n",
       "[64 rows x 13 columns]"
      ]
     },
     "execution_count": 5,
     "metadata": {},
     "output_type": "execute_result"
    }
   ],
   "source": [
    "variable_df\n",
    "constraint_df\n",
    "min_con\n",
    "max_con\n",
    "variable_df"
   ]
  },
  {
   "cell_type": "markdown",
   "metadata": {},
   "source": [
    "##### Build a bunch of food-nutrient dictionaries. Probably should have looped this."
   ]
  },
  {
   "cell_type": "code",
   "execution_count": 13,
   "metadata": {},
   "outputs": [],
   "source": [
    "food_items = list(variable_df['Foods'])\n",
    "food_items\n",
    "costs = dict(zip(food_items,variable_df['Price/ Serving']))\n",
    "calories = dict(zip(food_items,variable_df['Calories']))\n",
    "cholesterol = dict(zip(food_items,variable_df['Cholesterol mg']))\n",
    "fat = dict(zip(food_items,variable_df['Total_Fat g']))\n",
    "sodium = dict(zip(food_items,variable_df['Sodium mg']))\n",
    "carbs = dict(zip(food_items,variable_df['Carbohydrates g']))\n",
    "fiber = dict(zip(food_items,variable_df['Dietary_Fiber g']))\n",
    "protein = dict(zip(food_items,variable_df['Protein g']))\n",
    "vitamin_a = dict(zip(food_items,variable_df['Vit_A IU']))\n",
    "vitamin_c = dict(zip(food_items,variable_df['Vit_C IU']))\n",
    "calcium = dict(zip(food_items,variable_df['Calcium mg']))\n",
    "iron = dict(zip(food_items,variable_df['Iron mg']))\n",
    "servings = dict(zip(food_items,df['Serving Size']))\n",
    "nutrients = ['calories', 'cholesterol', 'fat', 'sodium', 'carbs', 'fiber', 'protien', 'vitamin_a', 'vitamin_c', 'calcium', 'iron']\n",
    "nutrient_dicts = [calories, cholesterol, fat, sodium, carbs, fiber, protein, vitamin_a, vitamin_c, calcium, iron]"
   ]
  },
  {
   "cell_type": "code",
   "execution_count": null,
   "metadata": {},
   "outputs": [],
   "source": []
  },
  {
   "cell_type": "markdown",
   "metadata": {},
   "source": [
    "##### Construct the Food Variable LP dict as a continuous zero-floor var"
   ]
  },
  {
   "cell_type": "code",
   "execution_count": 7,
   "metadata": {},
   "outputs": [],
   "source": [
    "food_vars = LpVariable.dicts(\"Food\",food_items,lowBound=0,cat='Continuous')\n",
    "#food_vars"
   ]
  },
  {
   "cell_type": "markdown",
   "metadata": {},
   "source": [
    "##### build the optimization problem"
   ]
  },
  {
   "cell_type": "code",
   "execution_count": 8,
   "metadata": {},
   "outputs": [
    {
     "name": "stderr",
     "output_type": "stream",
     "text": [
      "C:\\ProgramData\\Anaconda3\\lib\\site-packages\\pulp\\pulp.py:1198: UserWarning: Spaces are not permitted in the name. Converted to '_'\n",
      "  warnings.warn(\"Spaces are not permitted in the name. Converted to '_'\")\n"
     ]
    }
   ],
   "source": [
    "prob = LpProblem(\"Diet-Cost Optimization\",LpMinimize)\n",
    "prob += lpSum([costs[i]*food_vars[i] for i in food_items])"
   ]
  },
  {
   "cell_type": "markdown",
   "metadata": {},
   "source": [
    "##### Loop through food-nutrient constraints"
   ]
  },
  {
   "cell_type": "code",
   "execution_count": 9,
   "metadata": {},
   "outputs": [],
   "source": [
    "j = 0\n",
    "for i in nutrient_dicts:\n",
    "    prob += lpSum([i[f] * food_vars[f] for f in food_items]) >= float(min_con.iloc[:,j])\n",
    "    prob += lpSum([i[f] * food_vars[f] for f in food_items]) <= float(max_con.iloc[:,j])\n",
    "    j += 1"
   ]
  },
  {
   "cell_type": "markdown",
   "metadata": {},
   "source": [
    "##### Solve and display the optimization problem"
   ]
  },
  {
   "cell_type": "code",
   "execution_count": 10,
   "metadata": {},
   "outputs": [
    {
     "data": {
      "text/plain": [
       "1"
      ]
     },
     "execution_count": 10,
     "metadata": {},
     "output_type": "execute_result"
    }
   ],
   "source": [
    "prob.solve()"
   ]
  },
  {
   "cell_type": "code",
   "execution_count": 26,
   "metadata": {},
   "outputs": [
    {
     "name": "stdout",
     "output_type": "stream",
     "text": [
      "Food_Celery,_Raw = 52.64371 servings.\n",
      "Food_Frozen_Broccoli = 0.25960653 servings.\n",
      "Food_Lettuce,Iceberg,Raw = 63.988506 servings.\n",
      "Food_Oranges = 2.2929389 servings.\n",
      "Food_Poached_Eggs = 0.14184397 servings.\n",
      "Food_Popcorn,Air_Popped = 13.869322 servings.\n"
     ]
    }
   ],
   "source": [
    "for i in prob.variables():\n",
    "    if i.varValue>0:\n",
    "        print(i.name, \"=\", i.varValue, \"servings.\")"
   ]
  },
  {
   "cell_type": "code",
   "execution_count": 27,
   "metadata": {},
   "outputs": [
    {
     "name": "stdout",
     "output_type": "stream",
     "text": [
      "Cost of above diet is: $4.34\n"
     ]
    }
   ],
   "source": [
    "obj = value(prob.objective)\n",
    "print(\"Cost of above diet is: ${}\".format(round(obj,2)))"
   ]
  },
  {
   "cell_type": "markdown",
   "metadata": {},
   "source": [
    "### 15.2.2: Adding three additional complexities"
   ]
  },
  {
   "cell_type": "markdown",
   "metadata": {},
   "source": [
    "##### Two new variables: a food amounts variable (similar to the one used above), and a binary toggle variable."
   ]
  },
  {
   "cell_type": "code",
   "execution_count": 30,
   "metadata": {},
   "outputs": [],
   "source": [
    "food_amounts_variable = LpVariable.dicts(\"Food\",food_items,lowBound=0,cat='Continuous')\n",
    "food_binary_variable = LpVariable.dicts(\"Binary\",food_items,0,1,cat='Integer')"
   ]
  },
  {
   "cell_type": "code",
   "execution_count": 31,
   "metadata": {},
   "outputs": [],
   "source": [
    "prob2 = LpProblem(\"Diet-Cost Optimization with Additional Complexities\",LpMinimize)\n",
    "prob2 += lpSum([costs[i]*food_amounts_variable[i] for i in food_items])"
   ]
  },
  {
   "cell_type": "markdown",
   "metadata": {},
   "source": [
    "##### Keep the nutrient constraints the same as above."
   ]
  },
  {
   "cell_type": "code",
   "execution_count": 32,
   "metadata": {},
   "outputs": [],
   "source": [
    "j = 0\n",
    "for i in nutrient_dicts:\n",
    "    prob2 += lpSum([i[f] * food_amounts_variable[f] for f in food_items]) >= float(min_con.iloc[:,j])\n",
    "    prob2 += lpSum([i[f] * food_amounts_variable[f] for f in food_items]) <= float(max_con.iloc[:,j])\n",
    "    j += 1"
   ]
  },
  {
   "cell_type": "markdown",
   "metadata": {},
   "source": [
    "##### Binary inclusion plus a 1/10th serving min"
   ]
  },
  {
   "cell_type": "code",
   "execution_count": 33,
   "metadata": {},
   "outputs": [],
   "source": [
    "for f in food_items:\n",
    "    prob2 += food_amounts_variable[f] >= food_binary_variable[f]*0.1\n",
    "    prob2 += food_amounts_variable[f] <= food_binary_variable[f]*100000"
   ]
  },
  {
   "cell_type": "markdown",
   "metadata": {},
   "source": [
    "##### Include NEITHER or AT MOST ONE of Frozen Broccoli and Raw Celery, I.E. the sum of the binaries must be less than or eqaul to 1."
   ]
  },
  {
   "cell_type": "code",
   "execution_count": 35,
   "metadata": {},
   "outputs": [],
   "source": [
    "prob2 += food_binary_variable['Frozen Broccoli']+food_binary_variable['Celery, Raw']<=1"
   ]
  },
  {
   "cell_type": "markdown",
   "metadata": {},
   "source": [
    "##### Generate an indicator variable for which foods are PROTEINS, and make a dictionary out of them"
   ]
  },
  {
   "cell_type": "code",
   "execution_count": 36,
   "metadata": {},
   "outputs": [],
   "source": [
    "proteins = ['Tofu', 'Roasted Chicken', 'Poached Eggs', 'Scrambled Eggs', 'Bologna,Turkey', \\\n",
    "            'Frankfurter, Beef', 'Ham,Sliced,Extralean', 'Kielbasa,Prk', \\\n",
    "            'Hamburger W/Toppings', 'Hotdog, Plain', 'Pork', 'Sardines in Oil', 'White Tuna in Water']\n",
    "\n",
    "protein_df = pd.DataFrame(variable_df.loc[:,'Foods'])\n",
    "protein_df['Protein'] = protein_df['Foods'].apply(lambda x: 1 if x in proteins else 0)\n",
    "proteins_dict = dict(zip(protein_df.Foods, protein_df.Protein))"
   ]
  },
  {
   "cell_type": "markdown",
   "metadata": {},
   "source": [
    "##### The sum of protein binaries in the final food alotment must be at least 3."
   ]
  },
  {
   "cell_type": "code",
   "execution_count": 37,
   "metadata": {},
   "outputs": [],
   "source": [
    "prob2 += lpSum([proteins_dict[f]*food_binary_variable[f] for f in food_items]) >= 3"
   ]
  },
  {
   "cell_type": "markdown",
   "metadata": {},
   "source": [
    "##### Solve the new Optimization, and show the updated meal and costs."
   ]
  },
  {
   "cell_type": "code",
   "execution_count": 38,
   "metadata": {},
   "outputs": [
    {
     "data": {
      "text/plain": [
       "1"
      ]
     },
     "execution_count": 38,
     "metadata": {},
     "output_type": "execute_result"
    }
   ],
   "source": [
    "prob2.solve()"
   ]
  },
  {
   "cell_type": "code",
   "execution_count": 44,
   "metadata": {},
   "outputs": [
    {
     "name": "stdout",
     "output_type": "stream",
     "text": [
      "Food_Celery,_Raw = 42.399358\n",
      "Food_Kielbasa,Prk = 0.1\n",
      "Food_Lettuce,Iceberg,Raw = 82.802586\n",
      "Food_Oranges = 3.0771841\n",
      "Food_Peanut_Butter = 1.9429716\n",
      "Food_Poached_Eggs = 0.1\n",
      "Food_Popcorn,Air_Popped = 13.223294\n",
      "Food_Scrambled_Eggs = 0.1\n"
     ]
    }
   ],
   "source": [
    "for i in prob2.variables():\n",
    "    if i.varValue>0 and i.name.startswith('Food_'):\n",
    "        print(i.name, \"=\", i.varValue)"
   ]
  },
  {
   "cell_type": "code",
   "execution_count": 40,
   "metadata": {},
   "outputs": [
    {
     "name": "stdout",
     "output_type": "stream",
     "text": [
      "The total cost of this balanced diet is: $4.51\n"
     ]
    }
   ],
   "source": [
    "obj = value(prob2.objective)\n",
    "print(\"The total cost of this balanced diet is: ${}\".format(round(obj,2)))"
   ]
  }
 ],
 "metadata": {
  "kernelspec": {
   "display_name": "Python 3",
   "language": "python",
   "name": "python3"
  },
  "language_info": {
   "codemirror_mode": {
    "name": "ipython",
    "version": 3
   },
   "file_extension": ".py",
   "mimetype": "text/x-python",
   "name": "python",
   "nbconvert_exporter": "python",
   "pygments_lexer": "ipython3",
   "version": "3.8.3"
  }
 },
 "nbformat": 4,
 "nbformat_minor": 4
}
