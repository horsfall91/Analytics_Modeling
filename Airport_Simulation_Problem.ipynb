{
 "cells": [
  {
   "cell_type": "code",
   "execution_count": 31,
   "metadata": {},
   "outputs": [],
   "source": [
    "import simpy\n",
    "import random\n",
    "import statistics"
   ]
  },
  {
   "cell_type": "code",
   "execution_count": 43,
   "metadata": {},
   "outputs": [],
   "source": [
    "wait_times = []\n",
    "\n",
    "class SecurityCheck(object):\n",
    "    def __init__(self, env, num_passcheck, num_bag_lines):\n",
    "        self.env = env\n",
    "        self.passport_checker = simpy.Resource(env, num_passcheck)\n",
    "        self.baggage_scan_line = simpy.Resource(env, num_bag_lines)\n",
    "\n",
    "    def get_serviced(self, traveler):\n",
    "        yield self.env.timeout(random.expovariate(0.75))\n",
    "\n",
    "    def personal_check(self, traveler):\n",
    "        yield self.env.timeout(random.uniform(0.5,1))"
   ]
  },
  {
   "cell_type": "code",
   "execution_count": 44,
   "metadata": {},
   "outputs": [],
   "source": [
    "def go_through_security(env, traveler, airport):\n",
    "    #traveler arrives at the security line\n",
    "    arrival_time = env.now\n",
    "\n",
    "    with airport.passport_checker.request() as request:\n",
    "        yield request\n",
    "        yield env.process(airport.get_serviced(traveler))\n",
    "\n",
    "    with airport.baggage_scan_line.request() as request:\n",
    "        yield request\n",
    "        yield env.process(airport.personal_check(traveler))\n",
    "\n",
    "    #traveler clears all of security\n",
    "    wait_times.append(env.now - arrival_time)"
   ]
  },
  {
   "cell_type": "code",
   "execution_count": 45,
   "metadata": {},
   "outputs": [],
   "source": [
    "def run_airport(env, num_passcheck, num_bag_lines):\n",
    "    airport = SecurityCheck(env, num_passcheck, num_bag_lines)\n",
    "\n",
    "    for traveler in range(1):\n",
    "        env.process(go_through_security(env, traveler, airport))\n",
    "\n",
    "    while True:\n",
    "        yield env.timeout(0.020)\n",
    "        traveler += 1\n",
    "        env.process(go_through_security(env, traveler, airport))"
   ]
  },
  {
   "cell_type": "code",
   "execution_count": 46,
   "metadata": {},
   "outputs": [],
   "source": [
    "def get_average_wait_time(wait_times):\n",
    "    average_wait = statistics.mean(wait_times)"
   ]
  },
  {
   "cell_type": "code",
   "execution_count": 47,
   "metadata": {},
   "outputs": [],
   "source": [
    "def get_average_wait_time(wait_times):\n",
    "    average_wait = statistics.mean(wait_times)\n",
    "    # Pretty print the results\n",
    "    minutes, frac_minutes = divmod(average_wait, 1)\n",
    "    seconds = frac_minutes * 60\n",
    "    return round(minutes), round(seconds)"
   ]
  },
  {
   "cell_type": "code",
   "execution_count": 48,
   "metadata": {},
   "outputs": [],
   "source": [
    "def get_user_input():\n",
    "    num_passcheck = input(\"Input # of Passport Checkers working: \")\n",
    "    num_bag_lines = input(\"Input # of Bag Lines operating: \")\n",
    "    params = [num_passcheck, num_bag_lines]\n",
    "    if all(str(i).isdigit() for i in params):  # Check input is valid\n",
    "        params = [int(x) for x in params]\n",
    "    else:\n",
    "        print(\n",
    "            \"Could not parse input. The simulation will use default values:\",\n",
    "            \"\\n1 PassCheck, 1 BagLine.\",\n",
    "        )\n",
    "        params = [1, 1]\n",
    "    return params"
   ]
  },
  {
   "cell_type": "code",
   "execution_count": 49,
   "metadata": {},
   "outputs": [],
   "source": [
    "def main():\n",
    "  # Setup\n",
    "  random.seed(101)\n",
    "  num_passcheck, num_bag_lines = get_user_input()\n",
    "\n",
    "  # Run the simulation\n",
    "  env = simpy.Environment()\n",
    "  env.process(run_airport(env, num_passcheck, num_bag_lines))\n",
    "  env.run(until=120)\n",
    "\n",
    "  # View the results\n",
    "  mins, secs = get_average_wait_time(wait_times)\n",
    "  print(\n",
    "      \"Running simulation...\",\n",
    "      f\"\\nThe average wait time is {mins} minutes and {secs} seconds.\",\n",
    "  )"
   ]
  },
  {
   "cell_type": "code",
   "execution_count": 56,
   "metadata": {},
   "outputs": [
    {
     "name": "stdout",
     "output_type": "stream",
     "text": [
      "Input # of Passport Checkers working: 100\n",
      "Input # of Bag Lines operating: 100\n",
      "Running simulation... \n",
      "The average wait time is 14 minutes and 13 seconds.\n"
     ]
    }
   ],
   "source": [
    "if __name__ == '__main__':\n",
    "    main()"
   ]
  },
  {
   "cell_type": "code",
   "execution_count": null,
   "metadata": {},
   "outputs": [],
   "source": []
  }
 ],
 "metadata": {
  "kernelspec": {
   "display_name": "Python 3",
   "language": "python",
   "name": "python3"
  },
  "language_info": {
   "codemirror_mode": {
    "name": "ipython",
    "version": 3
   },
   "file_extension": ".py",
   "mimetype": "text/x-python",
   "name": "python",
   "nbconvert_exporter": "python",
   "pygments_lexer": "ipython3",
   "version": "3.8.3"
  }
 },
 "nbformat": 4,
 "nbformat_minor": 4
}
